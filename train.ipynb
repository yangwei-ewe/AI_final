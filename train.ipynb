{
 "cells": [
  {
   "attachments": {},
   "cell_type": "markdown",
   "metadata": {},
   "source": [
    "##### load module"
   ]
  },
  {
   "cell_type": "code",
   "execution_count": null,
   "metadata": {},
   "outputs": [],
   "source": [
    "import os\n",
    "from PIL import Image\n",
    "import numpy as np\n",
    "import tensorflow as tf\n",
    "from sklearn.preprocessing import LabelEncoder\n",
    "import matplotlib.pyplot as plt"
   ]
  },
  {
   "attachments": {},
   "cell_type": "markdown",
   "metadata": {},
   "source": [
    "##### load data"
   ]
  },
  {
   "cell_type": "code",
   "execution_count": null,
   "metadata": {},
   "outputs": [],
   "source": [
    "# 設定圖片和標籤的資料夾路徑\n",
    "train_img_folder = \"train_img\"\n",
    "train_label_folder = \"train_label\"\n",
    "test_img_folder = \"test_img\"\n",
    "test_label_folder = \"test_label\"\n",
    "\n",
    "# 創建空的訓練和測試圖片、標籤列表\n",
    "train_images = []\n",
    "train_labels = []\n",
    "test_images = []\n",
    "test_labels = []\n",
    "\n",
    "# 載入訓練圖片和標籤\n",
    "for filename in os.listdir(train_img_folder):\n",
    "    img_path = os.path.join(train_img_folder, filename)\n",
    "    label_path = os.path.join(\n",
    "        train_label_folder, f\"{os.path.splitext(filename)[0]}.txt\"\n",
    "    )\n",
    "\n",
    "    # 載入圖片\n",
    "    img = Image.open(img_path)\n",
    "    # 將圖片轉換為NumPy數組\n",
    "    img_array = np.array(img)\n",
    "    # 將圖片添加到train_images列表中\n",
    "    train_images.append(img_array)\n",
    "\n",
    "    # 讀取標籤\n",
    "    with open(label_path, \"r\") as f:\n",
    "        label = f.read().strip()\n",
    "    # 將標籤添加到train_labels列表中\n",
    "    train_labels.append(label)\n",
    "\n",
    "# 載入測試圖片和標籤\n",
    "for filename in os.listdir(test_img_folder):\n",
    "    img_path = os.path.join(test_img_folder, filename)\n",
    "    label_path = os.path.join(test_label_folder, f\"{os.path.splitext(filename)[0]}.txt\")\n",
    "\n",
    "    # 載入圖片\n",
    "    img = Image.open(img_path)\n",
    "    # 將圖片轉換為NumPy數組\n",
    "    img_array = np.array(img)\n",
    "    # 將圖片添加到test_images列表中\n",
    "    test_images.append(img_array)\n",
    "\n",
    "    # 讀取標籤\n",
    "    with open(label_path, \"r\") as f:\n",
    "        label = f.read().strip()\n",
    "    # 將標籤添加到test_labels列表中\n",
    "    test_labels.append(label)\n",
    "\n",
    "# 轉換圖片和標籤為NumPy數組\n",
    "train_images = np.array(train_images, dtype=\"float32\") / 255\n",
    "test_images = np.array(test_images, dtype=\"float32\") / 255\n",
    "\n",
    "# 轉換標籤為NumPy數組\n",
    "label_encoder = LabelEncoder()\n",
    "train_labels_encoded = label_encoder.fit_transform(train_labels)\n",
    "test_labels_encoded = label_encoder.transform(test_labels)\n",
    "\n",
    "# 將標籤進行獨熱編碼\n",
    "num_classes = len(label_encoder.classes_)\n",
    "train_labels_encoded = tf.one_hot(train_labels_encoded, depth=num_classes)\n",
    "test_labels_encoded = tf.one_hot(test_labels_encoded, depth=num_classes)\n",
    "\n",
    "print(f\"訓練圖片數量: {len(train_images)}\")\n",
    "print(f\"訓練標籤數量: {len(train_labels)}\")\n",
    "print(f\"測試圖片數量: {len(test_images)}\")\n",
    "print(f\"測試標籤數量: {len(test_labels)}\")"
   ]
  },
  {
   "attachments": {},
   "cell_type": "markdown",
   "metadata": {},
   "source": [
    "##### kernal"
   ]
  },
  {
   "cell_type": "code",
   "execution_count": null,
   "metadata": {},
   "outputs": [],
   "source": [
    "model = tf.keras.models.Sequential(\n",
    "    [\n",
    "        tf.keras.layers.Conv2D(\n",
    "            32, (3, 3), activation=\"relu\", input_shape=(100, 120, 3)\n",
    "        ),\n",
    "        tf.keras.layers.MaxPooling2D((2, 2)),\n",
    "        tf.keras.layers.Conv2D(64, (3, 3), activation=\"relu\"),\n",
    "        tf.keras.layers.MaxPooling2D((2, 2)),\n",
    "        tf.keras.layers.Conv2D(64, (3, 3), activation=\"relu\"),\n",
    "        tf.keras.layers.Flatten(),\n",
    "        tf.keras.layers.Dense(64, activation=\"relu\"),\n",
    "        tf.keras.layers.Dense(num_classes, activation=\"softmax\"),\n",
    "    ]\n",
    ")\n",
    "\n",
    "# 編譯模型\n",
    "model.compile(optimizer=\"adam\", loss=\"categorical_crossentropy\", metrics=[\"accuracy\"])\n",
    "\n",
    "# 訓練模型\n",
    "history = model.fit(train_images, train_labels_encoded, epochs=10, batch_size=32)\n",
    "\n",
    "# 在測試集上評估模型\n",
    "test_loss, test_accuracy = model.evaluate(test_images, test_labels_encoded)"
   ]
  },
  {
   "attachments": {},
   "cell_type": "markdown",
   "metadata": {},
   "source": [
    "##### eveluate"
   ]
  },
  {
   "cell_type": "code",
   "execution_count": null,
   "metadata": {},
   "outputs": [],
   "source": [
    "print(f\"Test Loss: {test_loss}\")\n",
    "print(f\"Test Accuracy: {test_accuracy}\")\n",
    "\n",
    "# 繪製準確度和損失圖像\n",
    "plt.figure(figsize=(12, 4))\n",
    "\n",
    "# 準確度圖像\n",
    "plt.subplot(1, 2, 1)\n",
    "plt.plot(history.history[\"accuracy\"], label=\"Training Accuracy\")\n",
    "plt.title(\"Accuracy\")\n",
    "plt.xlabel(\"Epoch\")\n",
    "plt.ylabel(\"Accuracy\")\n",
    "plt.legend()\n",
    "\n",
    "# 損失圖像\n",
    "plt.subplot(1, 2, 2)\n",
    "plt.plot(history.history[\"loss\"], label=\"Training Loss\")\n",
    "plt.title(\"Loss\")\n",
    "plt.xlabel(\"Epoch\")\n",
    "plt.ylabel(\"Loss\")\n",
    "plt.legend()\n",
    "plt.show()"
   ]
  }
 ],
 "metadata": {
  "language_info": {
   "name": "python"
  },
  "orig_nbformat": 4
 },
 "nbformat": 4,
 "nbformat_minor": 2
}
